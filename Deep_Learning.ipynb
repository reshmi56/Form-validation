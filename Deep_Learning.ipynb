{
  "nbformat": 4,
  "nbformat_minor": 0,
  "metadata": {
    "colab": {
      "provenance": [],
      "authorship_tag": "ABX9TyPdN5Xwo2O+aGRE0fddQjsy",
      "include_colab_link": true
    },
    "kernelspec": {
      "name": "python3",
      "display_name": "Python 3"
    },
    "language_info": {
      "name": "python"
    }
  },
  "cells": [
    {
      "cell_type": "markdown",
      "metadata": {
        "id": "view-in-github",
        "colab_type": "text"
      },
      "source": [
        "<a href=\"https://colab.research.google.com/github/reshmi56/ML-Projects/blob/main/Deep_Learning.ipynb\" target=\"_parent\"><img src=\"https://colab.research.google.com/assets/colab-badge.svg\" alt=\"Open In Colab\"/></a>"
      ]
    },
    {
      "cell_type": "markdown",
      "source": [
        "Creating Neural network\n"
      ],
      "metadata": {
        "id": "-2rgMEhEwOet"
      }
    },
    {
      "cell_type": "code",
      "source": [
        "import tensorflow as tf"
      ],
      "metadata": {
        "id": "pQN1NNbqwVPt"
      },
      "execution_count": 1,
      "outputs": []
    },
    {
      "cell_type": "code",
      "source": [
        "import numpy as np\n",
        "from numpy import loadtxt"
      ],
      "metadata": {
        "id": "rCQMbLnHwkAR"
      },
      "execution_count": 2,
      "outputs": []
    },
    {
      "cell_type": "code",
      "source": [
        "data=loadtxt('/content/diabetesclean.csv',delimiter=',')#read the dataset"
      ],
      "metadata": {
        "id": "AksGu8Kmxfw1"
      },
      "execution_count": 3,
      "outputs": []
    },
    {
      "cell_type": "code",
      "source": [
        "data .shape"
      ],
      "metadata": {
        "colab": {
          "base_uri": "https://localhost:8080/"
        },
        "id": "xJ8jmdcyxx3T",
        "outputId": "3c3eb93b-4f25-4178-cf6d-a6cd033255f6"
      },
      "execution_count": 4,
      "outputs": [
        {
          "output_type": "execute_result",
          "data": {
            "text/plain": [
              "(768, 9)"
            ]
          },
          "metadata": {},
          "execution_count": 4
        }
      ]
    },
    {
      "cell_type": "code",
      "source": [
        "x=data[:,0:8]#data\n",
        "y=data[:,8]#label"
      ],
      "metadata": {
        "id": "nk4FTctAx39E"
      },
      "execution_count": 5,
      "outputs": []
    },
    {
      "cell_type": "code",
      "source": [
        "x"
      ],
      "metadata": {
        "colab": {
          "base_uri": "https://localhost:8080/"
        },
        "id": "Dv5QM2B9yFzJ",
        "outputId": "b444f435-79cd-4c7a-d6bf-b5c651e55948"
      },
      "execution_count": 7,
      "outputs": [
        {
          "output_type": "execute_result",
          "data": {
            "text/plain": [
              "array([[  6.   , 148.   ,  72.   , ...,  33.6  ,   0.627,  50.   ],\n",
              "       [  1.   ,  85.   ,  66.   , ...,  26.6  ,   0.351,  31.   ],\n",
              "       [  8.   , 183.   ,  64.   , ...,  23.3  ,   0.672,  32.   ],\n",
              "       ...,\n",
              "       [  5.   , 121.   ,  72.   , ...,  26.2  ,   0.245,  30.   ],\n",
              "       [  1.   , 126.   ,  60.   , ...,  30.1  ,   0.349,  47.   ],\n",
              "       [  1.   ,  93.   ,  70.   , ...,  30.4  ,   0.315,  23.   ]])"
            ]
          },
          "metadata": {},
          "execution_count": 7
        }
      ]
    },
    {
      "cell_type": "code",
      "source": [
        "from sklearn.model_selection import train_test_split\n"
      ],
      "metadata": {
        "id": "gMGL26wyyNS-"
      },
      "execution_count": 8,
      "outputs": []
    },
    {
      "cell_type": "code",
      "source": [
        "xtrain,xtest,ytrain,ytest=train_test_split(x,y,test_size=0.2)"
      ],
      "metadata": {
        "id": "UNednLDCzdD1"
      },
      "execution_count": 9,
      "outputs": []
    },
    {
      "cell_type": "code",
      "source": [
        "from keras.models import Sequential\n",
        "from keras.layers import Dense"
      ],
      "metadata": {
        "id": "FZxBXYHv2ZDq"
      },
      "execution_count": 10,
      "outputs": []
    },
    {
      "cell_type": "code",
      "source": [
        "model=Sequential()"
      ],
      "metadata": {
        "id": "Ky44H__t2o9I"
      },
      "execution_count": 11,
      "outputs": []
    },
    {
      "cell_type": "code",
      "source": [
        "model.add(Dense(8,input_dim=8,activation='relu'))#input\n",
        "model.add(Dense(8,activation='relu'))#hidden\n",
        "model.add(Dense(1,activation='sigmoid'))#output"
      ],
      "metadata": {
        "id": "K7H_XU7z3hJn"
      },
      "execution_count": 12,
      "outputs": []
    },
    {
      "cell_type": "code",
      "source": [
        "model.compile(loss='binary_crossentropy',optimizer='adam',metrics=['accuracy'])"
      ],
      "metadata": {
        "id": "Kr2eYN2Y6IlM"
      },
      "execution_count": 13,
      "outputs": []
    },
    {
      "cell_type": "code",
      "source": [
        "model.fit(xtrain,ytrain,epochs=150,batch_size=43)"
      ],
      "metadata": {
        "colab": {
          "base_uri": "https://localhost:8080/"
        },
        "id": "LqHXcOaf6okx",
        "outputId": "8a8516a5-db9b-4b37-eb74-34186be391c5"
      },
      "execution_count": 14,
      "outputs": [
        {
          "output_type": "stream",
          "name": "stdout",
          "text": [
            "Epoch 1/150\n",
            "15/15 [==============================] - 1s 3ms/step - loss: 7.3953 - accuracy: 0.3876\n",
            "Epoch 2/150\n",
            "15/15 [==============================] - 0s 2ms/step - loss: 5.0070 - accuracy: 0.4072\n",
            "Epoch 3/150\n",
            "15/15 [==============================] - 0s 2ms/step - loss: 3.2932 - accuracy: 0.4560\n",
            "Epoch 4/150\n",
            "15/15 [==============================] - 0s 2ms/step - loss: 2.0863 - accuracy: 0.4821\n",
            "Epoch 5/150\n",
            "15/15 [==============================] - 0s 2ms/step - loss: 1.3209 - accuracy: 0.5293\n",
            "Epoch 6/150\n",
            "15/15 [==============================] - 0s 2ms/step - loss: 1.0300 - accuracy: 0.6270\n",
            "Epoch 7/150\n",
            "15/15 [==============================] - 0s 2ms/step - loss: 0.9341 - accuracy: 0.6368\n",
            "Epoch 8/150\n",
            "15/15 [==============================] - 0s 2ms/step - loss: 0.8653 - accuracy: 0.6433\n",
            "Epoch 9/150\n",
            "15/15 [==============================] - 0s 2ms/step - loss: 0.8228 - accuracy: 0.6450\n",
            "Epoch 10/150\n",
            "15/15 [==============================] - 0s 3ms/step - loss: 0.7797 - accuracy: 0.6547\n",
            "Epoch 11/150\n",
            "15/15 [==============================] - 0s 3ms/step - loss: 0.7482 - accuracy: 0.6580\n",
            "Epoch 12/150\n",
            "15/15 [==============================] - 0s 2ms/step - loss: 0.7181 - accuracy: 0.6629\n",
            "Epoch 13/150\n",
            "15/15 [==============================] - 0s 2ms/step - loss: 0.6907 - accuracy: 0.6759\n",
            "Epoch 14/150\n",
            "15/15 [==============================] - 0s 2ms/step - loss: 0.6701 - accuracy: 0.6726\n",
            "Epoch 15/150\n",
            "15/15 [==============================] - 0s 3ms/step - loss: 0.6590 - accuracy: 0.6824\n",
            "Epoch 16/150\n",
            "15/15 [==============================] - 0s 3ms/step - loss: 0.6503 - accuracy: 0.6857\n",
            "Epoch 17/150\n",
            "15/15 [==============================] - 0s 3ms/step - loss: 0.6439 - accuracy: 0.6840\n",
            "Epoch 18/150\n",
            "15/15 [==============================] - 0s 3ms/step - loss: 0.6397 - accuracy: 0.6922\n",
            "Epoch 19/150\n",
            "15/15 [==============================] - 0s 3ms/step - loss: 0.6331 - accuracy: 0.6938\n",
            "Epoch 20/150\n",
            "15/15 [==============================] - 0s 4ms/step - loss: 0.6319 - accuracy: 0.6857\n",
            "Epoch 21/150\n",
            "15/15 [==============================] - 0s 3ms/step - loss: 0.6316 - accuracy: 0.6873\n",
            "Epoch 22/150\n",
            "15/15 [==============================] - 0s 3ms/step - loss: 0.6279 - accuracy: 0.6971\n",
            "Epoch 23/150\n",
            "15/15 [==============================] - 0s 2ms/step - loss: 0.6240 - accuracy: 0.7052\n",
            "Epoch 24/150\n",
            "15/15 [==============================] - 0s 2ms/step - loss: 0.6262 - accuracy: 0.6971\n",
            "Epoch 25/150\n",
            "15/15 [==============================] - 0s 2ms/step - loss: 0.6251 - accuracy: 0.6938\n",
            "Epoch 26/150\n",
            "15/15 [==============================] - 0s 3ms/step - loss: 0.6218 - accuracy: 0.7020\n",
            "Epoch 27/150\n",
            "15/15 [==============================] - 0s 3ms/step - loss: 0.6248 - accuracy: 0.7036\n",
            "Epoch 28/150\n",
            "15/15 [==============================] - 0s 2ms/step - loss: 0.6169 - accuracy: 0.6857\n",
            "Epoch 29/150\n",
            "15/15 [==============================] - 0s 2ms/step - loss: 0.6154 - accuracy: 0.6922\n",
            "Epoch 30/150\n",
            "15/15 [==============================] - 0s 2ms/step - loss: 0.6149 - accuracy: 0.6971\n",
            "Epoch 31/150\n",
            "15/15 [==============================] - 0s 2ms/step - loss: 0.6140 - accuracy: 0.7003\n",
            "Epoch 32/150\n",
            "15/15 [==============================] - 0s 3ms/step - loss: 0.6142 - accuracy: 0.6971\n",
            "Epoch 33/150\n",
            "15/15 [==============================] - 0s 2ms/step - loss: 0.6102 - accuracy: 0.7003\n",
            "Epoch 34/150\n",
            "15/15 [==============================] - 0s 2ms/step - loss: 0.6107 - accuracy: 0.7003\n",
            "Epoch 35/150\n",
            "15/15 [==============================] - 0s 2ms/step - loss: 0.6081 - accuracy: 0.6938\n",
            "Epoch 36/150\n",
            "15/15 [==============================] - 0s 3ms/step - loss: 0.6071 - accuracy: 0.6938\n",
            "Epoch 37/150\n",
            "15/15 [==============================] - 0s 3ms/step - loss: 0.6086 - accuracy: 0.6987\n",
            "Epoch 38/150\n",
            "15/15 [==============================] - 0s 3ms/step - loss: 0.6133 - accuracy: 0.6922\n",
            "Epoch 39/150\n",
            "15/15 [==============================] - 0s 3ms/step - loss: 0.6066 - accuracy: 0.6938\n",
            "Epoch 40/150\n",
            "15/15 [==============================] - 0s 3ms/step - loss: 0.6039 - accuracy: 0.7020\n",
            "Epoch 41/150\n",
            "15/15 [==============================] - 0s 3ms/step - loss: 0.6052 - accuracy: 0.6971\n",
            "Epoch 42/150\n",
            "15/15 [==============================] - 0s 2ms/step - loss: 0.6016 - accuracy: 0.7003\n",
            "Epoch 43/150\n",
            "15/15 [==============================] - 0s 2ms/step - loss: 0.6014 - accuracy: 0.7003\n",
            "Epoch 44/150\n",
            "15/15 [==============================] - 0s 2ms/step - loss: 0.6010 - accuracy: 0.7003\n",
            "Epoch 45/150\n",
            "15/15 [==============================] - 0s 2ms/step - loss: 0.6018 - accuracy: 0.6954\n",
            "Epoch 46/150\n",
            "15/15 [==============================] - 0s 2ms/step - loss: 0.6017 - accuracy: 0.6938\n",
            "Epoch 47/150\n",
            "15/15 [==============================] - 0s 2ms/step - loss: 0.5992 - accuracy: 0.6987\n",
            "Epoch 48/150\n",
            "15/15 [==============================] - 0s 2ms/step - loss: 0.6013 - accuracy: 0.7020\n",
            "Epoch 49/150\n",
            "15/15 [==============================] - 0s 2ms/step - loss: 0.5975 - accuracy: 0.6987\n",
            "Epoch 50/150\n",
            "15/15 [==============================] - 0s 2ms/step - loss: 0.6013 - accuracy: 0.6971\n",
            "Epoch 51/150\n",
            "15/15 [==============================] - 0s 2ms/step - loss: 0.5990 - accuracy: 0.7003\n",
            "Epoch 52/150\n",
            "15/15 [==============================] - 0s 2ms/step - loss: 0.5982 - accuracy: 0.6922\n",
            "Epoch 53/150\n",
            "15/15 [==============================] - 0s 2ms/step - loss: 0.5956 - accuracy: 0.6954\n",
            "Epoch 54/150\n",
            "15/15 [==============================] - 0s 2ms/step - loss: 0.5962 - accuracy: 0.7052\n",
            "Epoch 55/150\n",
            "15/15 [==============================] - 0s 3ms/step - loss: 0.5940 - accuracy: 0.6987\n",
            "Epoch 56/150\n",
            "15/15 [==============================] - 0s 2ms/step - loss: 0.5941 - accuracy: 0.6971\n",
            "Epoch 57/150\n",
            "15/15 [==============================] - 0s 2ms/step - loss: 0.5927 - accuracy: 0.7003\n",
            "Epoch 58/150\n",
            "15/15 [==============================] - 0s 3ms/step - loss: 0.5940 - accuracy: 0.7036\n",
            "Epoch 59/150\n",
            "15/15 [==============================] - 0s 3ms/step - loss: 0.5943 - accuracy: 0.6954\n",
            "Epoch 60/150\n",
            "15/15 [==============================] - 0s 3ms/step - loss: 0.5941 - accuracy: 0.7036\n",
            "Epoch 61/150\n",
            "15/15 [==============================] - 0s 3ms/step - loss: 0.5924 - accuracy: 0.6987\n",
            "Epoch 62/150\n",
            "15/15 [==============================] - 0s 3ms/step - loss: 0.5899 - accuracy: 0.7003\n",
            "Epoch 63/150\n",
            "15/15 [==============================] - 0s 3ms/step - loss: 0.5914 - accuracy: 0.6971\n",
            "Epoch 64/150\n",
            "15/15 [==============================] - 0s 3ms/step - loss: 0.5909 - accuracy: 0.7020\n",
            "Epoch 65/150\n",
            "15/15 [==============================] - 0s 3ms/step - loss: 0.5908 - accuracy: 0.6971\n",
            "Epoch 66/150\n",
            "15/15 [==============================] - 0s 2ms/step - loss: 0.5934 - accuracy: 0.6971\n",
            "Epoch 67/150\n",
            "15/15 [==============================] - 0s 2ms/step - loss: 0.5878 - accuracy: 0.7052\n",
            "Epoch 68/150\n",
            "15/15 [==============================] - 0s 2ms/step - loss: 0.5867 - accuracy: 0.7020\n",
            "Epoch 69/150\n",
            "15/15 [==============================] - 0s 2ms/step - loss: 0.5890 - accuracy: 0.7003\n",
            "Epoch 70/150\n",
            "15/15 [==============================] - 0s 2ms/step - loss: 0.5913 - accuracy: 0.7068\n",
            "Epoch 71/150\n",
            "15/15 [==============================] - 0s 2ms/step - loss: 0.5896 - accuracy: 0.7020\n",
            "Epoch 72/150\n",
            "15/15 [==============================] - 0s 2ms/step - loss: 0.5963 - accuracy: 0.6873\n",
            "Epoch 73/150\n",
            "15/15 [==============================] - 0s 2ms/step - loss: 0.5854 - accuracy: 0.7003\n",
            "Epoch 74/150\n",
            "15/15 [==============================] - 0s 2ms/step - loss: 0.5838 - accuracy: 0.7020\n",
            "Epoch 75/150\n",
            "15/15 [==============================] - 0s 2ms/step - loss: 0.5812 - accuracy: 0.7068\n",
            "Epoch 76/150\n",
            "15/15 [==============================] - 0s 2ms/step - loss: 0.5799 - accuracy: 0.7003\n",
            "Epoch 77/150\n",
            "15/15 [==============================] - 0s 3ms/step - loss: 0.5803 - accuracy: 0.6954\n",
            "Epoch 78/150\n",
            "15/15 [==============================] - 0s 2ms/step - loss: 0.5825 - accuracy: 0.6987\n",
            "Epoch 79/150\n",
            "15/15 [==============================] - 0s 5ms/step - loss: 0.5830 - accuracy: 0.6906\n",
            "Epoch 80/150\n",
            "15/15 [==============================] - 0s 5ms/step - loss: 0.5830 - accuracy: 0.6954\n",
            "Epoch 81/150\n",
            "15/15 [==============================] - 0s 3ms/step - loss: 0.5760 - accuracy: 0.7003\n",
            "Epoch 82/150\n",
            "15/15 [==============================] - 0s 3ms/step - loss: 0.5750 - accuracy: 0.7003\n",
            "Epoch 83/150\n",
            "15/15 [==============================] - 0s 3ms/step - loss: 0.5747 - accuracy: 0.7003\n",
            "Epoch 84/150\n",
            "15/15 [==============================] - 0s 3ms/step - loss: 0.5747 - accuracy: 0.7020\n",
            "Epoch 85/150\n",
            "15/15 [==============================] - 0s 3ms/step - loss: 0.5744 - accuracy: 0.7052\n",
            "Epoch 86/150\n",
            "15/15 [==============================] - 0s 2ms/step - loss: 0.5729 - accuracy: 0.7020\n",
            "Epoch 87/150\n",
            "15/15 [==============================] - 0s 2ms/step - loss: 0.5739 - accuracy: 0.7036\n",
            "Epoch 88/150\n",
            "15/15 [==============================] - 0s 2ms/step - loss: 0.5738 - accuracy: 0.7036\n",
            "Epoch 89/150\n",
            "15/15 [==============================] - 0s 2ms/step - loss: 0.5751 - accuracy: 0.6987\n",
            "Epoch 90/150\n",
            "15/15 [==============================] - 0s 2ms/step - loss: 0.5731 - accuracy: 0.7020\n",
            "Epoch 91/150\n",
            "15/15 [==============================] - 0s 3ms/step - loss: 0.5712 - accuracy: 0.7052\n",
            "Epoch 92/150\n",
            "15/15 [==============================] - 0s 2ms/step - loss: 0.5792 - accuracy: 0.6938\n",
            "Epoch 93/150\n",
            "15/15 [==============================] - 0s 2ms/step - loss: 0.5755 - accuracy: 0.6906\n",
            "Epoch 94/150\n",
            "15/15 [==============================] - 0s 3ms/step - loss: 0.5813 - accuracy: 0.6954\n",
            "Epoch 95/150\n",
            "15/15 [==============================] - 0s 2ms/step - loss: 0.5761 - accuracy: 0.6971\n",
            "Epoch 96/150\n",
            "15/15 [==============================] - 0s 2ms/step - loss: 0.5725 - accuracy: 0.6987\n",
            "Epoch 97/150\n",
            "15/15 [==============================] - 0s 2ms/step - loss: 0.5711 - accuracy: 0.7020\n",
            "Epoch 98/150\n",
            "15/15 [==============================] - 0s 2ms/step - loss: 0.5721 - accuracy: 0.7020\n",
            "Epoch 99/150\n",
            "15/15 [==============================] - 0s 3ms/step - loss: 0.5707 - accuracy: 0.6938\n",
            "Epoch 100/150\n",
            "15/15 [==============================] - 0s 3ms/step - loss: 0.5712 - accuracy: 0.6954\n",
            "Epoch 101/150\n",
            "15/15 [==============================] - 0s 3ms/step - loss: 0.5783 - accuracy: 0.6971\n",
            "Epoch 102/150\n",
            "15/15 [==============================] - 0s 3ms/step - loss: 0.5698 - accuracy: 0.7052\n",
            "Epoch 103/150\n",
            "15/15 [==============================] - 0s 3ms/step - loss: 0.5718 - accuracy: 0.6987\n",
            "Epoch 104/150\n",
            "15/15 [==============================] - 0s 3ms/step - loss: 0.5736 - accuracy: 0.6954\n",
            "Epoch 105/150\n",
            "15/15 [==============================] - 0s 3ms/step - loss: 0.5709 - accuracy: 0.7020\n",
            "Epoch 106/150\n",
            "15/15 [==============================] - 0s 2ms/step - loss: 0.5676 - accuracy: 0.6971\n",
            "Epoch 107/150\n",
            "15/15 [==============================] - 0s 3ms/step - loss: 0.5810 - accuracy: 0.6954\n",
            "Epoch 108/150\n",
            "15/15 [==============================] - 0s 3ms/step - loss: 0.5662 - accuracy: 0.6971\n",
            "Epoch 109/150\n",
            "15/15 [==============================] - 0s 3ms/step - loss: 0.5712 - accuracy: 0.6938\n",
            "Epoch 110/150\n",
            "15/15 [==============================] - 0s 3ms/step - loss: 0.5710 - accuracy: 0.7003\n",
            "Epoch 111/150\n",
            "15/15 [==============================] - 0s 4ms/step - loss: 0.5699 - accuracy: 0.6971\n",
            "Epoch 112/150\n",
            "15/15 [==============================] - 0s 3ms/step - loss: 0.5668 - accuracy: 0.7003\n",
            "Epoch 113/150\n",
            "15/15 [==============================] - 0s 3ms/step - loss: 0.5700 - accuracy: 0.6889\n",
            "Epoch 114/150\n",
            "15/15 [==============================] - 0s 4ms/step - loss: 0.5810 - accuracy: 0.7003\n",
            "Epoch 115/150\n",
            "15/15 [==============================] - 0s 4ms/step - loss: 0.5705 - accuracy: 0.6971\n",
            "Epoch 116/150\n",
            "15/15 [==============================] - 0s 5ms/step - loss: 0.5733 - accuracy: 0.6922\n",
            "Epoch 117/150\n",
            "15/15 [==============================] - 0s 4ms/step - loss: 0.5649 - accuracy: 0.7036\n",
            "Epoch 118/150\n",
            "15/15 [==============================] - 0s 5ms/step - loss: 0.5621 - accuracy: 0.6938\n",
            "Epoch 119/150\n",
            "15/15 [==============================] - 0s 5ms/step - loss: 0.5667 - accuracy: 0.7068\n",
            "Epoch 120/150\n",
            "15/15 [==============================] - 0s 5ms/step - loss: 0.5629 - accuracy: 0.7020\n",
            "Epoch 121/150\n",
            "15/15 [==============================] - 0s 4ms/step - loss: 0.5620 - accuracy: 0.7036\n",
            "Epoch 122/150\n",
            "15/15 [==============================] - 0s 3ms/step - loss: 0.5715 - accuracy: 0.6906\n",
            "Epoch 123/150\n",
            "15/15 [==============================] - 0s 3ms/step - loss: 0.5699 - accuracy: 0.6987\n",
            "Epoch 124/150\n",
            "15/15 [==============================] - 0s 3ms/step - loss: 0.5627 - accuracy: 0.6954\n",
            "Epoch 125/150\n",
            "15/15 [==============================] - 0s 3ms/step - loss: 0.5627 - accuracy: 0.6938\n",
            "Epoch 126/150\n",
            "15/15 [==============================] - 0s 3ms/step - loss: 0.5619 - accuracy: 0.6954\n",
            "Epoch 127/150\n",
            "15/15 [==============================] - 0s 3ms/step - loss: 0.5675 - accuracy: 0.6922\n",
            "Epoch 128/150\n",
            "15/15 [==============================] - 0s 4ms/step - loss: 0.5606 - accuracy: 0.7085\n",
            "Epoch 129/150\n",
            "15/15 [==============================] - 0s 4ms/step - loss: 0.5610 - accuracy: 0.7020\n",
            "Epoch 130/150\n",
            "15/15 [==============================] - 0s 4ms/step - loss: 0.5611 - accuracy: 0.6971\n",
            "Epoch 131/150\n",
            "15/15 [==============================] - 0s 3ms/step - loss: 0.5634 - accuracy: 0.6987\n",
            "Epoch 132/150\n",
            "15/15 [==============================] - 0s 3ms/step - loss: 0.5598 - accuracy: 0.7052\n",
            "Epoch 133/150\n",
            "15/15 [==============================] - 0s 3ms/step - loss: 0.5585 - accuracy: 0.6987\n",
            "Epoch 134/150\n",
            "15/15 [==============================] - 0s 3ms/step - loss: 0.5578 - accuracy: 0.7101\n",
            "Epoch 135/150\n",
            "15/15 [==============================] - 0s 3ms/step - loss: 0.5607 - accuracy: 0.6971\n",
            "Epoch 136/150\n",
            "15/15 [==============================] - 0s 4ms/step - loss: 0.5623 - accuracy: 0.7052\n",
            "Epoch 137/150\n",
            "15/15 [==============================] - 0s 5ms/step - loss: 0.5564 - accuracy: 0.6987\n",
            "Epoch 138/150\n",
            "15/15 [==============================] - 0s 4ms/step - loss: 0.5599 - accuracy: 0.7036\n",
            "Epoch 139/150\n",
            "15/15 [==============================] - 0s 3ms/step - loss: 0.5587 - accuracy: 0.7036\n",
            "Epoch 140/150\n",
            "15/15 [==============================] - 0s 3ms/step - loss: 0.5579 - accuracy: 0.7036\n",
            "Epoch 141/150\n",
            "15/15 [==============================] - 0s 4ms/step - loss: 0.5569 - accuracy: 0.7020\n",
            "Epoch 142/150\n",
            "15/15 [==============================] - 0s 5ms/step - loss: 0.5549 - accuracy: 0.7036\n",
            "Epoch 143/150\n",
            "15/15 [==============================] - 0s 4ms/step - loss: 0.5555 - accuracy: 0.7052\n",
            "Epoch 144/150\n",
            "15/15 [==============================] - 0s 4ms/step - loss: 0.5552 - accuracy: 0.7036\n",
            "Epoch 145/150\n",
            "15/15 [==============================] - 0s 4ms/step - loss: 0.5582 - accuracy: 0.6922\n",
            "Epoch 146/150\n",
            "15/15 [==============================] - 0s 3ms/step - loss: 0.5543 - accuracy: 0.7020\n",
            "Epoch 147/150\n",
            "15/15 [==============================] - 0s 5ms/step - loss: 0.5531 - accuracy: 0.7068\n",
            "Epoch 148/150\n",
            "15/15 [==============================] - 0s 5ms/step - loss: 0.5554 - accuracy: 0.6971\n",
            "Epoch 149/150\n",
            "15/15 [==============================] - 0s 4ms/step - loss: 0.5555 - accuracy: 0.6906\n",
            "Epoch 150/150\n",
            "15/15 [==============================] - 0s 4ms/step - loss: 0.5631 - accuracy: 0.6938\n"
          ]
        },
        {
          "output_type": "execute_result",
          "data": {
            "text/plain": [
              "<keras.src.callbacks.History at 0x7fabce53f9a0>"
            ]
          },
          "metadata": {},
          "execution_count": 14
        }
      ]
    },
    {
      "cell_type": "code",
      "source": [
        "_,acc=model.evaluate(xtest,ytest)\n",
        "print('Accuracy: ',acc)"
      ],
      "metadata": {
        "colab": {
          "base_uri": "https://localhost:8080/"
        },
        "id": "2CeXM2ZA7ziZ",
        "outputId": "ebfe6cd3-f556-4399-e9dc-cdf64b5c9ab8"
      },
      "execution_count": 15,
      "outputs": [
        {
          "output_type": "stream",
          "name": "stdout",
          "text": [
            "5/5 [==============================] - 0s 3ms/step - loss: 0.5643 - accuracy: 0.7013\n",
            "Accuracy:  0.701298713684082\n"
          ]
        }
      ]
    }
  ]
}